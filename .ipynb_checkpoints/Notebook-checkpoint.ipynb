{
 "cells": [
  {
   "cell_type": "markdown",
   "id": "682571a8",
   "metadata": {},
   "source": [
    "Notebook"
   ]
  },
  {
   "cell_type": "code",
   "execution_count": 2,
   "id": "00a00ff0",
   "metadata": {},
   "outputs": [],
   "source": [
    "import pandas as pd\n",
    "import numpy as np\n",
    "import matplotlib.pyplot as plt\n",
    "import plotly.graph_objects as go"
   ]
  },
  {
   "cell_type": "code",
   "execution_count": 1,
   "id": "d15c8a43",
   "metadata": {},
   "outputs": [],
   "source": [
    "import dataprep\n",
    "data = dataprep.df_final"
   ]
  },
  {
   "cell_type": "code",
   "execution_count": 3,
   "id": "0611e080",
   "metadata": {},
   "outputs": [
    {
     "data": {
      "text/html": [
       "<div>\n",
       "<style scoped>\n",
       "    .dataframe tbody tr th:only-of-type {\n",
       "        vertical-align: middle;\n",
       "    }\n",
       "\n",
       "    .dataframe tbody tr th {\n",
       "        vertical-align: top;\n",
       "    }\n",
       "\n",
       "    .dataframe thead th {\n",
       "        text-align: right;\n",
       "    }\n",
       "</style>\n",
       "<table border=\"1\" class=\"dataframe\">\n",
       "  <thead>\n",
       "    <tr style=\"text-align: right;\">\n",
       "      <th></th>\n",
       "      <th>id</th>\n",
       "      <th>first_name</th>\n",
       "      <th>last_name</th>\n",
       "      <th>party</th>\n",
       "      <th>state</th>\n",
       "      <th>year</th>\n",
       "      <th>age</th>\n",
       "      <th>type</th>\n",
       "      <th>first_year</th>\n",
       "    </tr>\n",
       "  </thead>\n",
       "  <tbody>\n",
       "    <tr>\n",
       "      <th>63262</th>\n",
       "      <td>A000001</td>\n",
       "      <td>Fred</td>\n",
       "      <td>Aandahl</td>\n",
       "      <td>Republican</td>\n",
       "      <td>ND</td>\n",
       "      <td>1951</td>\n",
       "      <td>54.0</td>\n",
       "      <td>rep</td>\n",
       "      <td>Y</td>\n",
       "    </tr>\n",
       "    <tr>\n",
       "      <th>63263</th>\n",
       "      <td>A000001</td>\n",
       "      <td>Fred</td>\n",
       "      <td>Aandahl</td>\n",
       "      <td>Republican</td>\n",
       "      <td>ND</td>\n",
       "      <td>1952</td>\n",
       "      <td>55.0</td>\n",
       "      <td>rep</td>\n",
       "      <td>N</td>\n",
       "    </tr>\n",
       "    <tr>\n",
       "      <th>63264</th>\n",
       "      <td>A000001</td>\n",
       "      <td>Fred</td>\n",
       "      <td>Aandahl</td>\n",
       "      <td>Republican</td>\n",
       "      <td>ND</td>\n",
       "      <td>1953</td>\n",
       "      <td>56.0</td>\n",
       "      <td>rep</td>\n",
       "      <td>N</td>\n",
       "    </tr>\n",
       "    <tr>\n",
       "      <th>74050</th>\n",
       "      <td>A000002</td>\n",
       "      <td>Watkins</td>\n",
       "      <td>Abbitt</td>\n",
       "      <td>Democrat</td>\n",
       "      <td>VA</td>\n",
       "      <td>1947</td>\n",
       "      <td>39.0</td>\n",
       "      <td>rep</td>\n",
       "      <td>Y</td>\n",
       "    </tr>\n",
       "    <tr>\n",
       "      <th>74051</th>\n",
       "      <td>A000002</td>\n",
       "      <td>Watkins</td>\n",
       "      <td>Abbitt</td>\n",
       "      <td>Democrat</td>\n",
       "      <td>VA</td>\n",
       "      <td>1948</td>\n",
       "      <td>40.0</td>\n",
       "      <td>rep</td>\n",
       "      <td>N</td>\n",
       "    </tr>\n",
       "  </tbody>\n",
       "</table>\n",
       "</div>"
      ],
      "text/plain": [
       "            id first_name last_name       party state  year   age type  \\\n",
       "63262  A000001       Fred   Aandahl  Republican    ND  1951  54.0  rep   \n",
       "63263  A000001       Fred   Aandahl  Republican    ND  1952  55.0  rep   \n",
       "63264  A000001       Fred   Aandahl  Republican    ND  1953  56.0  rep   \n",
       "74050  A000002    Watkins    Abbitt    Democrat    VA  1947  39.0  rep   \n",
       "74051  A000002    Watkins    Abbitt    Democrat    VA  1948  40.0  rep   \n",
       "\n",
       "      first_year  \n",
       "63262          Y  \n",
       "63263          N  \n",
       "63264          N  \n",
       "74050          Y  \n",
       "74051          N  "
      ]
     },
     "execution_count": 3,
     "metadata": {},
     "output_type": "execute_result"
    }
   ],
   "source": [
    "data.head()"
   ]
  },
  {
   "cell_type": "code",
   "execution_count": 9,
   "id": "ac29e4e6",
   "metadata": {},
   "outputs": [],
   "source": [
    "from pathlib import Path\n",
    "import glob"
   ]
  },
  {
   "cell_type": "code",
   "execution_count": 17,
   "id": "158ee377",
   "metadata": {
    "scrolled": true
   },
   "outputs": [
    {
     "data": {
      "text/html": [
       "<div>\n",
       "<style scoped>\n",
       "    .dataframe tbody tr th:only-of-type {\n",
       "        vertical-align: middle;\n",
       "    }\n",
       "\n",
       "    .dataframe tbody tr th {\n",
       "        vertical-align: top;\n",
       "    }\n",
       "\n",
       "    .dataframe thead th {\n",
       "        text-align: right;\n",
       "    }\n",
       "</style>\n",
       "<table border=\"1\" class=\"dataframe\">\n",
       "  <thead>\n",
       "    <tr style=\"text-align: right;\">\n",
       "      <th></th>\n",
       "      <th>Geography</th>\n",
       "      <th>Geographic Area Name</th>\n",
       "      <th>Estimate!!Median age!!Total</th>\n",
       "      <th>Margin of Error!!Median age!!Total</th>\n",
       "      <th>Annotation of Margin of Error!!Median age!!Total</th>\n",
       "      <th>Annotation of Estimate!!Median age!!Total</th>\n",
       "      <th>Estimate!!Median age!!Male</th>\n",
       "      <th>Margin of Error!!Median age!!Male</th>\n",
       "      <th>Annotation of Margin of Error!!Median age!!Male</th>\n",
       "      <th>Annotation of Estimate!!Median age!!Male</th>\n",
       "      <th>Estimate!!Median age!!Female</th>\n",
       "      <th>Margin of Error!!Median age!!Female</th>\n",
       "      <th>Annotation of Margin of Error!!Median age!!Female</th>\n",
       "      <th>Annotation of Estimate!!Median age!!Female</th>\n",
       "      <th>Unnamed: 14</th>\n",
       "    </tr>\n",
       "  </thead>\n",
       "  <tbody>\n",
       "    <tr>\n",
       "      <th>0</th>\n",
       "      <td>0100000US</td>\n",
       "      <td>United States</td>\n",
       "      <td>37.3</td>\n",
       "      <td>0.1</td>\n",
       "      <td>NaN</td>\n",
       "      <td>NaN</td>\n",
       "      <td>35.9</td>\n",
       "      <td>0.3</td>\n",
       "      <td>NaN</td>\n",
       "      <td>NaN</td>\n",
       "      <td>38.7</td>\n",
       "      <td>0.1</td>\n",
       "      <td>NaN</td>\n",
       "      <td>NaN</td>\n",
       "      <td>NaN</td>\n",
       "    </tr>\n",
       "  </tbody>\n",
       "</table>\n",
       "</div>"
      ],
      "text/plain": [
       "   Geography Geographic Area Name  Estimate!!Median age!!Total  \\\n",
       "0  0100000US        United States                         37.3   \n",
       "\n",
       "   Margin of Error!!Median age!!Total  \\\n",
       "0                                 0.1   \n",
       "\n",
       "   Annotation of Margin of Error!!Median age!!Total  \\\n",
       "0                                               NaN   \n",
       "\n",
       "   Annotation of Estimate!!Median age!!Total  Estimate!!Median age!!Male  \\\n",
       "0                                        NaN                        35.9   \n",
       "\n",
       "   Margin of Error!!Median age!!Male  \\\n",
       "0                                0.3   \n",
       "\n",
       "   Annotation of Margin of Error!!Median age!!Male  \\\n",
       "0                                              NaN   \n",
       "\n",
       "   Annotation of Estimate!!Median age!!Male  Estimate!!Median age!!Female  \\\n",
       "0                                       NaN                          38.7   \n",
       "\n",
       "   Margin of Error!!Median age!!Female  \\\n",
       "0                                  0.1   \n",
       "\n",
       "   Annotation of Margin of Error!!Median age!!Female  \\\n",
       "0                                                NaN   \n",
       "\n",
       "   Annotation of Estimate!!Median age!!Female  Unnamed: 14  \n",
       "0                                         NaN          NaN  "
      ]
     },
     "execution_count": 17,
     "metadata": {},
     "output_type": "execute_result"
    }
   ],
   "source": [
    "df_test = pd.read_csv('data/ACSDT1Y2011.B01002-Data.csv', skiprows=1)\n",
    "df_test.head()"
   ]
  },
  {
   "cell_type": "code",
   "execution_count": 21,
   "id": "6589d6da",
   "metadata": {},
   "outputs": [
    {
     "data": {
      "text/plain": [
       "37.3"
      ]
     },
     "execution_count": 21,
     "metadata": {},
     "output_type": "execute_result"
    }
   ],
   "source": [
    "df_test['Estimate!!Median age!!Total'][0]"
   ]
  },
  {
   "cell_type": "code",
   "execution_count": 13,
   "id": "7e769c54",
   "metadata": {},
   "outputs": [
    {
     "name": "stdout",
     "output_type": "stream",
     "text": [
      "['data/ACSDT1Y2011.B01002-Data.csv', 'data/ACSDT1Y2019.B01002-Data.csv', 'data/ACSDT1Y2016.B01002-Data.csv', 'data/ACSDT1Y2018.B01002-Data.csv', 'data/ACSDT1Y2017.B01002-Data.csv', 'data/ACSDT1Y2010.B01002-Data.csv', 'data/ACSDT1Y2015.B01002-Data.csv', 'data/ACSDT1Y2012.B01002-Data.csv', 'data/ACSDT1Y2013.B01002-Data.csv', 'data/ACSDT1Y2021.B01002-Data.csv', 'data/ACSDT1Y2014.B01002-Data.csv']\n"
     ]
    }
   ],
   "source": [
    "files = glob.glob('data/*.csv')\n",
    "print(files)\n",
    "# for file in files:\n",
    "#     df = pd.read_csv(file)\n",
    "#     print(df.head())\n",
    "# print(files)\n",
    "# for file in Path(folder).glob('*.csv'):\n",
    "#     print(1)\n",
    "#     df = pd.read_csv(file)\n",
    "#     df.fillna(0, inplace=True)\n",
    "#     fig, ax = plt.subplots()\n",
    "#     df.groupby('Day_type').plot(x = 'Time', y = 'avg_vt', ax=ax, grid=True)\n",
    "\n",
    "#     plt.savefig(file.with_suffix('.png'), index = False)\n",
    "#     df.to_csv(file.with_suffix('.csv'), index = False)"
   ]
  },
  {
   "cell_type": "code",
   "execution_count": 28,
   "id": "e3bd6308",
   "metadata": {},
   "outputs": [
    {
     "data": {
      "text/plain": [
       "['data/ACSDT1Y2010.B01002-Data.csv',\n",
       " 'data/ACSDT1Y2011.B01002-Data.csv',\n",
       " 'data/ACSDT1Y2012.B01002-Data.csv',\n",
       " 'data/ACSDT1Y2013.B01002-Data.csv',\n",
       " 'data/ACSDT1Y2014.B01002-Data.csv',\n",
       " 'data/ACSDT1Y2015.B01002-Data.csv',\n",
       " 'data/ACSDT1Y2016.B01002-Data.csv',\n",
       " 'data/ACSDT1Y2017.B01002-Data.csv',\n",
       " 'data/ACSDT1Y2018.B01002-Data.csv',\n",
       " 'data/ACSDT1Y2019.B01002-Data.csv',\n",
       " 'data/ACSDT1Y2021.B01002-Data.csv']"
      ]
     },
     "execution_count": 28,
     "metadata": {},
     "output_type": "execute_result"
    }
   ],
   "source": [
    "files = glob.glob('data/*.csv')\n",
    "files.sort()\n",
    "year_list = \n",
    "files\n"
   ]
  },
  {
   "cell_type": "code",
   "execution_count": 31,
   "id": "9a3b4630",
   "metadata": {},
   "outputs": [],
   "source": [
    "str_test = files[0]"
   ]
  },
  {
   "cell_type": "code",
   "execution_count": 30,
   "id": "0f252a16",
   "metadata": {},
   "outputs": [],
   "source": [
    "import re"
   ]
  },
  {
   "cell_type": "code",
   "execution_count": 38,
   "id": "c5fd07bb",
   "metadata": {},
   "outputs": [
    {
     "name": "stdout",
     "output_type": "stream",
     "text": [
      "<re.Match object; span=(12, 16), match='2010'>\n"
     ]
    }
   ],
   "source": [
    "found = re.search(r'20..', str_test)\n",
    "print(found)"
   ]
  },
  {
   "cell_type": "code",
   "execution_count": null,
   "id": "1b136b43",
   "metadata": {},
   "outputs": [],
   "source": []
  }
 ],
 "metadata": {
  "kernelspec": {
   "display_name": "Python 3 (ipykernel)",
   "language": "python",
   "name": "python3"
  },
  "language_info": {
   "codemirror_mode": {
    "name": "ipython",
    "version": 3
   },
   "file_extension": ".py",
   "mimetype": "text/x-python",
   "name": "python",
   "nbconvert_exporter": "python",
   "pygments_lexer": "ipython3",
   "version": "3.9.12"
  }
 },
 "nbformat": 4,
 "nbformat_minor": 5
}
